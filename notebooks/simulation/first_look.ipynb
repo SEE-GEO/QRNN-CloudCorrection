{
 "cells": [
  {
   "cell_type": "markdown",
   "metadata": {},
   "source": [
    "# Simulation results\n",
    "\n",
    "This notebook provides a first look at the simulation results, mostly to give an example of how to access them.\n",
    "\n",
    "## Data format\n",
    "\n",
    "The results are stored in NetCDF4 format. The siulated brightness temperatures  together with the sensor position and viewing angles are stored in the variables `y_atms`, `atms_position` and `atms_line_of_sight` contained in the root of the file structure.\n",
    "\n",
    "The data can be read conveniently using the `xarray` package."
   ]
  },
  {
   "cell_type": "code",
   "execution_count": 6,
   "metadata": {},
   "outputs": [
    {
     "data": {
      "text/html": [
       "<pre>&lt;xarray.Dataset&gt;\n",
       "Dimensions:             (atms_channels: 6, atms_stokes_dim: 2, atms_views: 10, cases: 100)\n",
       "Dimensions without coordinates: atms_channels, atms_stokes_dim, atms_views, cases\n",
       "Data variables:\n",
       "    atms_position       (cases, atms_views) float32 ...\n",
       "    atms_line_of_sight  (cases, atms_views) float32 ...\n",
       "    y_atms              (cases, atms_views, atms_channels, atms_stokes_dim) float32 ...</pre>"
      ],
      "text/plain": [
       "<xarray.Dataset>\n",
       "Dimensions:             (atms_channels: 6, atms_stokes_dim: 2, atms_views: 10, cases: 100)\n",
       "Dimensions without coordinates: atms_channels, atms_stokes_dim, atms_views, cases\n",
       "Data variables:\n",
       "    atms_position       (cases, atms_views) float32 ...\n",
       "    atms_line_of_sight  (cases, atms_views) float32 ...\n",
       "    y_atms              (cases, atms_views, atms_channels, atms_stokes_dim) float32 ..."
      ]
     },
     "execution_count": 6,
     "metadata": {},
     "output_type": "execute_result"
    }
   ],
   "source": [
    "import xarray\n",
    "simulation_results = xarray.open_dataset(\"../../data/simulations_100.nc\")\n",
    "simulation_results"
   ]
  },
  {
   "cell_type": "markdown",
   "metadata": {},
   "source": [
    "In addition to the simulated brightness temperatures, the results contain the filename that the profile was taken from and the index of the profile in the `inputs` group of the file."
   ]
  },
  {
   "cell_type": "code",
   "execution_count": 7,
   "metadata": {},
   "outputs": [
    {
     "data": {
      "text/html": [
       "<pre>&lt;xarray.Dataset&gt;\n",
       "Dimensions:        (cases: 100)\n",
       "Dimensions without coordinates: cases\n",
       "Data variables:\n",
       "    filename       (cases) |S20 ...\n",
       "    profile_index  (cases) int64 ...</pre>"
      ],
      "text/plain": [
       "<xarray.Dataset>\n",
       "Dimensions:        (cases: 100)\n",
       "Dimensions without coordinates: cases\n",
       "Data variables:\n",
       "    filename       (cases) |S20 ...\n",
       "    profile_index  (cases) int64 ..."
      ]
     },
     "execution_count": 7,
     "metadata": {},
     "output_type": "execute_result"
    }
   ],
   "source": [
    "input_data = xarray.open_dataset(\"../../data/simulations_100.nc\", group=\"inputs\")\n",
    "input_data"
   ]
  },
  {
   "cell_type": "code",
   "execution_count": 17,
   "metadata": {},
   "outputs": [
    {
     "data": {
      "text/html": [
       "<pre>&lt;xarray.DataArray &#x27;y_atms&#x27; ()&gt;\n",
       "array(9.96921e+36, dtype=float32)</pre>"
      ],
      "text/plain": [
       "<xarray.DataArray 'y_atms' ()>\n",
       "array(9.96921e+36, dtype=float32)"
      ]
     },
     "execution_count": 17,
     "metadata": {},
     "output_type": "execute_result"
    }
   ],
   "source": [
    "simulation_results[\"y_atms\"][56, 0, 0, 0]"
   ]
  }
 ],
 "metadata": {
  "kernelspec": {
   "display_name": "Python 3",
   "language": "python",
   "name": "python3"
  },
  "language_info": {
   "codemirror_mode": {
    "name": "ipython",
    "version": 3
   },
   "file_extension": ".py",
   "mimetype": "text/x-python",
   "name": "python",
   "nbconvert_exporter": "python",
   "pygments_lexer": "ipython3",
   "version": "3.7.4"
  }
 },
 "nbformat": 4,
 "nbformat_minor": 2
}
