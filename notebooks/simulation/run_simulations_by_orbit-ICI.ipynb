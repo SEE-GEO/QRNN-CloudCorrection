{
 "cells": [
  {
   "cell_type": "markdown",
   "metadata": {},
   "source": [
    "# Running simulations\n",
    "\n",
    "The basic functionality for performing the AWS simulations is implemented by the `aws` package. With this in place, running simulations is a matter of setting up the simulations with the desired parameters and then executing them via IPyParallel."
   ]
  },
  {
   "cell_type": "code",
   "execution_count": 1,
   "metadata": {},
   "outputs": [],
   "source": [
    "%matplotlib inline\n",
    "import matplotlib.pyplot as plt\n",
    "import numpy as np\n",
    "import ipyparallel as ipp\n",
    "import os\n",
    "import glob\n",
    "from aws.retrieval import Simulation, Retrieval\n",
    "from aws.data import Profiles\n",
    "from aws.sensor import ICI\n",
    "from aws import aws_path\n",
    "import random"
   ]
  },
  {
   "cell_type": "markdown",
   "metadata": {},
   "source": [
    "## Connecting to IPyParallel\n",
    "\n",
    "Assuming that the IPyParallel controller, hub and engines are running we create a client, which holds the connection to the controller."
   ]
  },
  {
   "cell_type": "code",
   "execution_count": 2,
   "metadata": {},
   "outputs": [],
   "source": [
    "from aws.retrieval import Retrieval\n",
    "client = ipp.Client(profile=\"gold\")\n",
    "view = client.load_balanced_view()"
   ]
  },
  {
   "cell_type": "markdown",
   "metadata": {},
   "source": [
    "Since we are already running 4 engines on each of the gold machines, which only have 4 cores, we set the `OMP_NUM_THREADS` environment variable to 1 on all engines to avoid ARTS from launching to many threads.\n",
    "\n",
    "Note that this notebook is running on your local machine, not on the gold cluster. To execute a cell on the engines we need to use\n",
    "the  `%%px` cell magic, which executes the cell on the remote engines instead on the local machine."
   ]
  },
  {
   "cell_type": "code",
   "execution_count": 3,
   "metadata": {},
   "outputs": [
    {
     "name": "stdout",
     "output_type": "stream",
     "text": [
      "[stdout:0] env: OMP_NUM_THREADS=1\n",
      "[stdout:1] env: OMP_NUM_THREADS=1\n",
      "[stdout:2] env: OMP_NUM_THREADS=1\n",
      "[stdout:3] env: OMP_NUM_THREADS=1\n",
      "[stdout:4] env: OMP_NUM_THREADS=1\n",
      "[stdout:5] env: OMP_NUM_THREADS=1\n",
      "[stdout:6] env: OMP_NUM_THREADS=1\n",
      "[stdout:7] env: OMP_NUM_THREADS=1\n",
      "[stdout:8] env: OMP_NUM_THREADS=1\n",
      "[stdout:9] env: OMP_NUM_THREADS=1\n",
      "[stdout:10] env: OMP_NUM_THREADS=1\n",
      "[stdout:11] env: OMP_NUM_THREADS=1\n",
      "[stdout:12] env: OMP_NUM_THREADS=1\n",
      "[stdout:13] env: OMP_NUM_THREADS=1\n",
      "[stdout:14] env: OMP_NUM_THREADS=1\n",
      "[stdout:15] env: OMP_NUM_THREADS=1\n",
      "[stdout:16] env: OMP_NUM_THREADS=1\n",
      "[stdout:17] env: OMP_NUM_THREADS=1\n",
      "[stdout:18] env: OMP_NUM_THREADS=1\n",
      "[stdout:19] env: OMP_NUM_THREADS=1\n",
      "[stdout:20] env: OMP_NUM_THREADS=1\n",
      "[stdout:21] env: OMP_NUM_THREADS=1\n",
      "[stdout:22] env: OMP_NUM_THREADS=1\n",
      "[stdout:23] env: OMP_NUM_THREADS=1\n"
     ]
    }
   ],
   "source": [
    "%%px\n",
    "%env OMP_NUM_THREADS=1"
   ]
  },
  {
   "cell_type": "markdown",
   "metadata": {},
   "source": [
    "## Setting up the simulation\n",
    "\n",
    "The next step is to setup the simulation with the desired configuration."
   ]
  },
  {
   "cell_type": "markdown",
   "metadata": {},
   "source": [
    "## Choosing the sensor\n",
    "\n",
    "Currently two sensor configurations are available:\n",
    "\n",
    "  * `ATMS`: Simplified version of the upper channels of the\n",
    "     ATMS sensor.\n",
    "  * `AWS`: The channel setup to use for the full simulations."
   ]
  },
  {
   "cell_type": "code",
   "execution_count": 5,
   "metadata": {},
   "outputs": [],
   "source": [
    "def simulate_orbit(filename):\n",
    "    import os\n",
    "    import numpy as np\n",
    "    import os\n",
    "    from aws.retrieval import Simulation, Retrieval\n",
    "    from aws.data import Profiles\n",
    "    from aws.sensor import ICI\n",
    "    from aws import aws_path\n",
    "    \n",
    "    \n",
    "    # Simulation settings\n",
    "    \n",
    "#    sensor = ATMS()\n",
    "#    sensor = AWS()\n",
    "    sensor = ICI()\n",
    "    ice_shape = np.random.choice([\"Perpendicular3BulletRosette\",\n",
    "                                  \"LargeColumnAggregate\",\n",
    "                                  \"LargePlateAggregate\"])\n",
    "    ice_shape_name = ice_shape.rjust(30)\n",
    "    \n",
    "    # Input data\n",
    "    \n",
    "    data_provider = Profiles(filename)\n",
    "    retrieval = Retrieval(data_provider, ice_shape)\n",
    "    data_provider.ice_shape = ice_shape_name\n",
    "    \n",
    "    # Setup the simulation\n",
    "    \n",
    "    simulation = Simulation(sensor, retrieval, ice_shape)\n",
    "    \n",
    "    # Output data\n",
    "    \n",
    "    inputs = [(\"ice_shape\", (\"name_length\",)),] # List of inputs to store in results\n",
    "    name, _ = os.path.splitext(os.path.basename(filename))\n",
    "    output_file = os.path.join(os.path.dirname(filename), \"..\", \"ICI_m60_p60\", name + \".nc\")\n",
    "#    output_file = os.path.join(os.path.dirname(filename), \"..\", \"ATMS\", name + \".nc\")\n",
    "#    path = os.path.expanduser(\"~/aws/data\")\n",
    "#    output_file = os.path.join(path, name + \".nc\")\n",
    "    simulation.initialize_output_file(output_file,\n",
    "                                     [(\"cases\", -1, 0)], # Name of dimension for different simulations\n",
    "                                     inputs=inputs)\n",
    "    # Loop over profiles in file\n",
    "    simulation.setup()\n",
    "    \n",
    "    append = True\n",
    "    if append and \"cases\" in simulation.output_file.dimensions:\n",
    "        n = simulation.output_file.dimensions[\"cases\"]\n",
    "        simulation.run_ranges(range(n, data_provider.n_profiles))\n",
    "    else:\n",
    "        simulation.run_ranges(range(data_provider.n_profiles))"
   ]
  },
  {
   "cell_type": "markdown",
   "metadata": {},
   "source": [
    "## Execute on view"
   ]
  },
  {
   "cell_type": "code",
   "execution_count": 6,
   "metadata": {},
   "outputs": [],
   "source": [
    "files = glob.glob(os.path.expanduser(\"~/Dendrite/Projects/AWS-325GHz/Cases_m60_p60/c_of_2015_*.mat\"))\n",
    "#random.shuffle(files)\n",
    "# Try for 24 files for now\n",
    "#files = glob.glob(os.path.expanduser(\"~/Dendrite/Projects/AWS-325GHz/AWS/*clearsky.nc\"))\n",
    "#files = [files[i].replace('AWS', 'CasesV1') for i in range(len(files))]\n",
    "#files = [files[i].replace('_clearsky.nc', '.mat') for i in range(len(files))]\n",
    "#print(files)\n",
    "with open('shuffled_files.txt', 'w') as f:\n",
    "        for file in files:\n",
    "            f.write(\"%s\\n\" % file)\n",
    "#with open('shuffled_files.txt', 'r') as f:\n",
    "#    files = f.readlines()     \n",
    "#files    "
   ]
  },
  {
   "cell_type": "code",
   "execution_count": 7,
   "metadata": {},
   "outputs": [],
   "source": [
    "results = view.map(simulate_orbit, files[:48], block=False)"
   ]
  },
  {
   "cell_type": "code",
   "execution_count": 11,
   "metadata": {},
   "outputs": [
    {
     "data": {
      "text/plain": [
       "[None,\n",
       " None,\n",
       " None,\n",
       " None,\n",
       " None,\n",
       " None,\n",
       " None,\n",
       " None,\n",
       " 'error',\n",
       " None,\n",
       " None,\n",
       " None,\n",
       " None,\n",
       " None,\n",
       " None,\n",
       " None,\n",
       " None,\n",
       " None,\n",
       " None,\n",
       " None,\n",
       " None,\n",
       " None,\n",
       " 'error',\n",
       " 'error',\n",
       " 'error',\n",
       " None,\n",
       " None,\n",
       " None,\n",
       " None,\n",
       " None,\n",
       " None,\n",
       " None,\n",
       " None,\n",
       " None,\n",
       " None,\n",
       " None,\n",
       " None,\n",
       " None,\n",
       " None,\n",
       " None,\n",
       " None,\n",
       " None,\n",
       " None,\n",
       " None,\n",
       " None,\n",
       " None,\n",
       " None,\n",
       " None]"
      ]
     },
     "execution_count": 11,
     "metadata": {},
     "output_type": "execute_result"
    }
   ],
   "source": [
    "results.status\n"
   ]
  },
  {
   "cell_type": "markdown",
   "metadata": {},
   "source": [
    "## Run clearsky simulations"
   ]
  },
  {
   "cell_type": "code",
   "execution_count": null,
   "metadata": {},
   "outputs": [],
   "source": [
    "def simulate_orbit_clearsky(filename):\n",
    "    import os\n",
    "    import numpy as np\n",
    "    import os\n",
    "    from aws.retrieval import Simulation, Retrieval\n",
    "    from aws.data import Profiles\n",
    "    from aws.sensor import ATMS, AWS\n",
    "    from aws import aws_path\n",
    "    \n",
    "    \n",
    "    # Simulation settings\n",
    "    \n",
    "#    sensor = ATMS()\n",
    "    sensor = AWS()\n",
    "    ice_shape = np.random.choice([\"Perpendicular3BulletRosette\",\n",
    "                                  \"LargeColumnAggregate\",\n",
    "                                  \"LargePlateAggregate\"])\n",
    "    ice_shape_name = ice_shape.rjust(30)\n",
    "    \n",
    "    # Input data\n",
    "    \n",
    "    data_provider = Profiles(filename)\n",
    "    retrieval = Retrieval(data_provider, ice_shape)\n",
    "    data_provider.ice_shape = ice_shape_name\n",
    "    \n",
    "    # Setup the simulation\n",
    "    \n",
    "    simulation = Simulation(sensor, retrieval, ice_shape)\n",
    "    \n",
    "    # Output data\n",
    "    \n",
    "    inputs = [(\"ice_shape\", (\"name_length\",)),] # List of inputs to store in results\n",
    "    name, _ = os.path.splitext(os.path.basename(filename)) \n",
    "#    output_file = os.path.join(os.path.dirname(filename), \"..\", \"ATMS\", name + \"_clearsky.nc\")\n",
    "    output_file = os.path.join(os.path.dirname(filename), \"..\", \"AWS_m60_p60\", name + \"_clearsky.nc\")\n",
    "    simulation.initialize_output_file(output_file,\n",
    "                                     [(\"cases\", -1, 0)], # Name of dimension for different simulations\n",
    "                                     inputs=inputs)\n",
    "    # Loop over profiles in file\n",
    "    simulation.setup()\n",
    "\n",
    "    append = True\n",
    "    if append and \"cases\" in simulation.output_file.dimensions:\n",
    "        n = simulation.output_file.dimensions[\"cases\"]\n",
    "        simulation.run_ranges(range(n, data_provider.n_profiles), clearsky = True)\n",
    "    else:\n",
    "        simulation.run_ranges(range(data_provider.n_profiles), clearsky = True)\n",
    "        \n",
    "#    append = True\n",
    "#    if append:\n",
    "#        n = simulation.output_file.dimensions[\"cases\"]\n",
    "#        simulation.run_ranges(range(n, data_provider.n_profiles),  clearsky=True)\n",
    "#    else:\n",
    "#        simulation.run_ranges(range(data_provider.n_profiles), \"wb\",  clearsky=True)\n",
    "    "
   ]
  },
  {
   "cell_type": "markdown",
   "metadata": {},
   "source": [
    "Using same files as for allsky case"
   ]
  },
  {
   "cell_type": "code",
   "execution_count": null,
   "metadata": {},
   "outputs": [],
   "source": [
    "#files = glob.glob(os.path.expanduser(\"~/Dendrite/Projects/AWS-325GHz/Cases_m60_p60/c_of_2015_204_1?.mat\"))\n",
    "#random.shuffle(files)\n",
    "results_cs = view.map(simulate_orbit_clearsky, files[:24], block=False)"
   ]
  },
  {
   "cell_type": "code",
   "execution_count": null,
   "metadata": {
    "scrolled": true
   },
   "outputs": [],
   "source": [
    "results_cs.status"
   ]
  }
 ],
 "metadata": {
  "kernelspec": {
   "display_name": "Python 3",
   "language": "python",
   "name": "python3"
  },
  "language_info": {
   "codemirror_mode": {
    "name": "ipython",
    "version": 3
   },
   "file_extension": ".py",
   "mimetype": "text/x-python",
   "name": "python",
   "nbconvert_exporter": "python",
   "pygments_lexer": "ipython3",
   "version": "3.7.6"
  }
 },
 "nbformat": 4,
 "nbformat_minor": 2
}
