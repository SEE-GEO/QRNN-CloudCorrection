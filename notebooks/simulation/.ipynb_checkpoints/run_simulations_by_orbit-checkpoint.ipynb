{
 "cells": [
  {
   "cell_type": "markdown",
   "metadata": {},
   "source": [
    "# Running simulations\n",
    "\n",
    "The basic functionality for performing the AWS simulations is implemented by the `aws` package. With this in place, running simulations is a matter of setting up the simulations with the desired parameters and then executing them via IPyParallel."
   ]
  },
  {
   "cell_type": "code",
   "execution_count": 3,
   "metadata": {},
   "outputs": [
    {
     "ename": "ModuleNotFoundError",
     "evalue": "No module named 'aws'",
     "output_type": "error",
     "traceback": [
      "\u001b[0;31m---------------------------------------------------------------------------\u001b[0m",
      "\u001b[0;31mModuleNotFoundError\u001b[0m                       Traceback (most recent call last)",
      "\u001b[0;32m<ipython-input-3-930f9a3a94fa>\u001b[0m in \u001b[0;36m<module>\u001b[0;34m\u001b[0m\n\u001b[1;32m      5\u001b[0m \u001b[0;32mimport\u001b[0m \u001b[0mos\u001b[0m\u001b[0;34m\u001b[0m\u001b[0;34m\u001b[0m\u001b[0m\n\u001b[1;32m      6\u001b[0m \u001b[0;32mimport\u001b[0m \u001b[0mglob\u001b[0m\u001b[0;34m\u001b[0m\u001b[0;34m\u001b[0m\u001b[0m\n\u001b[0;32m----> 7\u001b[0;31m \u001b[0;32mfrom\u001b[0m \u001b[0maws\u001b[0m\u001b[0;34m.\u001b[0m\u001b[0mretrieval\u001b[0m \u001b[0;32mimport\u001b[0m \u001b[0mSimulation\u001b[0m\u001b[0;34m,\u001b[0m \u001b[0mRetrieval\u001b[0m\u001b[0;34m\u001b[0m\u001b[0;34m\u001b[0m\u001b[0m\n\u001b[0m\u001b[1;32m      8\u001b[0m \u001b[0;32mfrom\u001b[0m \u001b[0maws\u001b[0m\u001b[0;34m.\u001b[0m\u001b[0mdata\u001b[0m \u001b[0;32mimport\u001b[0m \u001b[0mProfiles\u001b[0m\u001b[0;34m\u001b[0m\u001b[0;34m\u001b[0m\u001b[0m\n\u001b[1;32m      9\u001b[0m \u001b[0;32mfrom\u001b[0m \u001b[0maws\u001b[0m\u001b[0;34m.\u001b[0m\u001b[0msensor\u001b[0m \u001b[0;32mimport\u001b[0m \u001b[0mATMS\u001b[0m\u001b[0;34m,\u001b[0m \u001b[0mAWS\u001b[0m\u001b[0;34m\u001b[0m\u001b[0;34m\u001b[0m\u001b[0m\n",
      "\u001b[0;31mModuleNotFoundError\u001b[0m: No module named 'aws'"
     ]
    }
   ],
   "source": [
    "%matplotlib inline\n",
    "import matplotlib.pyplot as plt\n",
    "import numpy as np\n",
    "import ipyparallel as ipp\n",
    "import os\n",
    "import glob\n",
    "from aws.retrieval import Simulation, Retrieval\n",
    "from aws.data import Profiles\n",
    "from aws.sensor import ATMS, AWS\n",
    "from aws import aws_path\n",
    "import random"
   ]
  },
  {
   "cell_type": "markdown",
   "metadata": {},
   "source": [
    "## Connecting to IPyParallel\n",
    "\n",
    "Assuming that the IPyParallel controller, hub and engines are running we create a client, which holds the connection to the controller."
   ]
  },
  {
   "cell_type": "code",
   "execution_count": 118,
   "metadata": {},
   "outputs": [],
   "source": [
    "from aws.retrieval import Retrieval\n",
    "client = ipp.Client(profile=\"inderpreet\")\n",
    "view = client.load_balanced_view()"
   ]
  },
  {
   "cell_type": "markdown",
   "metadata": {},
   "source": [
    "Since we are already running 4 engines on each of the gold machines, which only have 4 cores, we set the `OMP_NUM_THREADS` environment variable to 1 on all engines to avoid ARTS from launching to many threads.\n",
    "\n",
    "Note that this notebook is running on your local machine, not on the gold cluster. To execute a cell on the engines we need to use\n",
    "the  `%%px` cell magic, which executes the cell on the remote engines instead on the local machine."
   ]
  },
  {
   "cell_type": "code",
   "execution_count": 119,
   "metadata": {},
   "outputs": [
    {
     "name": "stdout",
     "output_type": "stream",
     "text": [
      "[stdout:0] env: OMP_NUM_THREADS=1\n",
      "[stdout:1] env: OMP_NUM_THREADS=1\n",
      "[stdout:2] env: OMP_NUM_THREADS=1\n",
      "[stdout:3] env: OMP_NUM_THREADS=1\n",
      "[stdout:4] env: OMP_NUM_THREADS=1\n",
      "[stdout:5] env: OMP_NUM_THREADS=1\n",
      "[stdout:6] env: OMP_NUM_THREADS=1\n",
      "[stdout:7] env: OMP_NUM_THREADS=1\n",
      "[stdout:8] env: OMP_NUM_THREADS=1\n",
      "[stdout:9] env: OMP_NUM_THREADS=1\n",
      "[stdout:10] env: OMP_NUM_THREADS=1\n",
      "[stdout:11] env: OMP_NUM_THREADS=1\n",
      "[stdout:12] env: OMP_NUM_THREADS=1\n",
      "[stdout:13] env: OMP_NUM_THREADS=1\n",
      "[stdout:14] env: OMP_NUM_THREADS=1\n",
      "[stdout:15] env: OMP_NUM_THREADS=1\n",
      "[stdout:16] env: OMP_NUM_THREADS=1\n",
      "[stdout:17] env: OMP_NUM_THREADS=1\n",
      "[stdout:18] env: OMP_NUM_THREADS=1\n",
      "[stdout:19] env: OMP_NUM_THREADS=1\n",
      "[stdout:20] env: OMP_NUM_THREADS=1\n",
      "[stdout:21] env: OMP_NUM_THREADS=1\n",
      "[stdout:22] env: OMP_NUM_THREADS=1\n",
      "[stdout:23] env: OMP_NUM_THREADS=1\n"
     ]
    }
   ],
   "source": [
    "%%px\n",
    "%env OMP_NUM_THREADS=1"
   ]
  },
  {
   "cell_type": "markdown",
   "metadata": {},
   "source": [
    "## Setting up the simulation\n",
    "\n",
    "The next step is to setup the simulation with the desired configuration."
   ]
  },
  {
   "cell_type": "markdown",
   "metadata": {},
   "source": [
    "## Choosing the sensor\n",
    "\n",
    "Currently two sensor configurations are available:\n",
    "\n",
    "  * `ATMS`: Simplified version of the upper channels of the\n",
    "     ATMS sensor.\n",
    "  * `AWS`: The channel setup to use for the full simulations."
   ]
  },
  {
   "cell_type": "code",
   "execution_count": 120,
   "metadata": {},
   "outputs": [],
   "source": [
    "def simulate_orbit(filename):\n",
    "    import os\n",
    "    import numpy as np\n",
    "    import os\n",
    "    from aws.retrieval import Simulation, Retrieval\n",
    "    from aws.data import Profiles\n",
    "    from aws.sensor import ATMS, AWS\n",
    "    from aws import aws_path\n",
    "    \n",
    "    \n",
    "    # Simulation settings\n",
    "    \n",
    "    sensor = ATMS()\n",
    "    ice_shape = np.random.choice([\"Perpendicular3BulletRosette\",\n",
    "                                  \"LargeColumnAggregate\",\n",
    "                                  \"LargePlateAggregate\"])\n",
    "    ice_shape_name = ice_shape.rjust(30)\n",
    "    \n",
    "    # Input data\n",
    "    \n",
    "    data_provider = Profiles(filename)\n",
    "    retrieval = Retrieval(data_provider, ice_shape)\n",
    "    data_provider.ice_shape = ice_shape_name\n",
    "    \n",
    "    # Setup the simulation\n",
    "    \n",
    "    simulation = Simulation(sensor, retrieval, ice_shape)\n",
    "    \n",
    "    # Output data\n",
    "    \n",
    "    inputs = [(\"ice_shape\", (\"name_length\",)),] # List of inputs to store in results\n",
    "    name, _ = os.path.splitext(os.path.basename(filename))\n",
    "    output_file = os.path.join(os.path.dirname(filename), \"..\", \"ATMS\", name + \".nc\")\n",
    "#    path = os.path.expanduser(\"~/aws/data\")\n",
    "#    output_file = os.path.join(path, name + \".nc\")\n",
    "    simulation.initialize_output_file(output_file,\n",
    "                                     [(\"cases\", -1, 0)], # Name of dimension for different simulations\n",
    "                                     inputs=inputs)\n",
    "    # Loop over profiles in file\n",
    "    simulation.setup()\n",
    "    \n",
    "    append = True\n",
    "    if append and \"cases\" in simulation.output_file.dimensions:\n",
    "        n = simulation.output_file.dimensions[\"cases\"]\n",
    "        simulation.run_ranges(range(n, data_provider.n_profiles))\n",
    "    else:\n",
    "        simulation.run_ranges(range(data_provider.n_profiles))"
   ]
  },
  {
   "cell_type": "markdown",
   "metadata": {},
   "source": [
    "## Execute on view"
   ]
  },
  {
   "cell_type": "code",
   "execution_count": 122,
   "metadata": {},
   "outputs": [],
   "source": [
    "files = glob.glob(os.path.expanduser(\"~/Dendrite/Projects/AWS-325GHz/CasesV1/*.mat\"))\n",
    "random.shuffle(files)\n",
    "# Try for 24 files for now\n",
    "results = view.map(simulate_orbit, files[:48], block=False)"
   ]
  },
  {
   "cell_type": "code",
   "execution_count": 126,
   "metadata": {},
   "outputs": [
    {
     "data": {
      "text/plain": [
       "[None,\n",
       " None,\n",
       " None,\n",
       " None,\n",
       " None,\n",
       " 'error',\n",
       " None,\n",
       " None,\n",
       " None,\n",
       " None,\n",
       " None,\n",
       " None,\n",
       " None,\n",
       " None,\n",
       " None,\n",
       " None,\n",
       " None,\n",
       " None,\n",
       " None,\n",
       " None,\n",
       " None,\n",
       " None,\n",
       " None,\n",
       " None,\n",
       " None,\n",
       " None,\n",
       " None,\n",
       " None,\n",
       " None,\n",
       " None,\n",
       " None,\n",
       " None,\n",
       " None,\n",
       " None,\n",
       " None,\n",
       " None,\n",
       " None,\n",
       " None,\n",
       " None,\n",
       " None,\n",
       " None,\n",
       " None,\n",
       " None,\n",
       " None,\n",
       " None,\n",
       " None,\n",
       " None,\n",
       " None]"
      ]
     },
     "execution_count": 126,
     "metadata": {},
     "output_type": "execute_result"
    }
   ],
   "source": [
    "results.status\n"
   ]
  },
  {
   "cell_type": "markdown",
   "metadata": {},
   "source": [
    "## Run clearsky simulations"
   ]
  },
  {
   "cell_type": "code",
   "execution_count": 9,
   "metadata": {},
   "outputs": [],
   "source": [
    "def simulate_orbit_clearsky(filename):\n",
    "    import os\n",
    "    import numpy as np\n",
    "    import os\n",
    "    from aws.retrieval import Simulation, Retrieval\n",
    "    from aws.data import Profiles\n",
    "    from aws.sensor import ATMS, AWS\n",
    "    from aws import aws_path\n",
    "    \n",
    "    \n",
    "    # Simulation settings\n",
    "    \n",
    "    sensor = ATMS()\n",
    "    ice_shape = np.random.choice([\"Perpendicular3BulletRosette\",\n",
    "                                  \"LargeColumnAggregate\",\n",
    "                                  \"LargePlateAggregate\"])\n",
    "    ice_shape_name = ice_shape.rjust(30)\n",
    "    \n",
    "    # Input data\n",
    "    \n",
    "    data_provider = Profiles(filename)\n",
    "    retrieval = Retrieval(data_provider, ice_shape)\n",
    "    data_provider.ice_shape = ice_shape_name\n",
    "    \n",
    "    # Setup the simulation\n",
    "    \n",
    "    simulation = Simulation(sensor, retrieval, ice_shape)\n",
    "    \n",
    "    # Output data\n",
    "    \n",
    "    inputs = [(\"ice_shape\", (\"name_length\",)),] # List of inputs to store in results\n",
    "    name, _ = os.path.splitext(os.path.basename(filename)) + \"_clearsky\"\n",
    "    output_file = os.path.join(os.path.dirname(filename), \"..\", \"ATMS\", name + \".nc\")\n",
    "    simulation.initialize_output_file(output_file,\n",
    "                                     [(\"cases\", -1, 0)], # Name of dimension for different simulations\n",
    "                                     inputs=inputs)\n",
    "    # Loop over profiles in file\n",
    "    simulation.setup()\n",
    "    \n",
    "    append = True\n",
    "    if append:\n",
    "        n = simulation.output_file.dimensions[\"cases\"]\n",
    "        simulation.run_ranges(range(n, data_provider.n_profiles),  clearsky=True)\n",
    "    else:\n",
    "        simulation.run_ranges(range(data_provider.n_profiles), \"wb\",  clearsky=True)\n",
    "    "
   ]
  },
  {
   "cell_type": "code",
   "execution_count": 10,
   "metadata": {},
   "outputs": [
    {
     "name": "stdout",
     "output_type": "stream",
     "text": [
      "['/home/inderpreet/Dendrite/Projects/AWS-325GHz/CasesV1/c_of_2015_213_01.mat', '/home/inderpreet/Dendrite/Projects/AWS-325GHz/CasesV1/c_of_2015_213_02.mat', '/home/inderpreet/Dendrite/Projects/AWS-325GHz/CasesV1/c_of_2015_213_03.mat', '/home/inderpreet/Dendrite/Projects/AWS-325GHz/CasesV1/c_of_2015_213_04.mat', '/home/inderpreet/Dendrite/Projects/AWS-325GHz/CasesV1/c_of_2015_213_05.mat', '/home/inderpreet/Dendrite/Projects/AWS-325GHz/CasesV1/c_of_2015_213_06.mat', '/home/inderpreet/Dendrite/Projects/AWS-325GHz/CasesV1/c_of_2015_213_07.mat', '/home/inderpreet/Dendrite/Projects/AWS-325GHz/CasesV1/c_of_2015_213_08.mat', '/home/inderpreet/Dendrite/Projects/AWS-325GHz/CasesV1/c_of_2015_213_09.mat', '/home/inderpreet/Dendrite/Projects/AWS-325GHz/CasesV1/c_of_2015_213_10.mat', '/home/inderpreet/Dendrite/Projects/AWS-325GHz/CasesV1/c_of_2015_213_11.mat', '/home/inderpreet/Dendrite/Projects/AWS-325GHz/CasesV1/c_of_2015_213_12.mat', '/home/inderpreet/Dendrite/Projects/AWS-325GHz/CasesV1/c_of_2015_213_13.mat', '/home/inderpreet/Dendrite/Projects/AWS-325GHz/CasesV1/c_of_2015_213_14.mat', '/home/inderpreet/Dendrite/Projects/AWS-325GHz/CasesV1/c_of_2015_214_01.mat', '/home/inderpreet/Dendrite/Projects/AWS-325GHz/CasesV1/c_of_2015_214_02.mat', '/home/inderpreet/Dendrite/Projects/AWS-325GHz/CasesV1/c_of_2015_214_03.mat', '/home/inderpreet/Dendrite/Projects/AWS-325GHz/CasesV1/c_of_2015_214_04.mat', '/home/inderpreet/Dendrite/Projects/AWS-325GHz/CasesV1/c_of_2015_214_05.mat', '/home/inderpreet/Dendrite/Projects/AWS-325GHz/CasesV1/c_of_2015_214_06.mat', '/home/inderpreet/Dendrite/Projects/AWS-325GHz/CasesV1/c_of_2015_214_07.mat', '/home/inderpreet/Dendrite/Projects/AWS-325GHz/CasesV1/c_of_2015_214_08.mat', '/home/inderpreet/Dendrite/Projects/AWS-325GHz/CasesV1/c_of_2015_214_09.mat', '/home/inderpreet/Dendrite/Projects/AWS-325GHz/CasesV1/c_of_2015_214_10.mat', '/home/inderpreet/Dendrite/Projects/AWS-325GHz/CasesV1/c_of_2015_214_11.mat', '/home/inderpreet/Dendrite/Projects/AWS-325GHz/CasesV1/c_of_2015_214_12.mat', '/home/inderpreet/Dendrite/Projects/AWS-325GHz/CasesV1/c_of_2015_214_13.mat', '/home/inderpreet/Dendrite/Projects/AWS-325GHz/CasesV1/c_of_2015_214_14.mat', '/home/inderpreet/Dendrite/Projects/AWS-325GHz/CasesV1/c_of_2015_214_15.mat', '/home/inderpreet/Dendrite/Projects/AWS-325GHz/CasesV1/c_of_2015_215_01.mat', '/home/inderpreet/Dendrite/Projects/AWS-325GHz/CasesV1/c_of_2015_215_02.mat', '/home/inderpreet/Dendrite/Projects/AWS-325GHz/CasesV1/c_of_2015_215_03.mat', '/home/inderpreet/Dendrite/Projects/AWS-325GHz/CasesV1/c_of_2015_215_04.mat', '/home/inderpreet/Dendrite/Projects/AWS-325GHz/CasesV1/c_of_2015_215_05.mat', '/home/inderpreet/Dendrite/Projects/AWS-325GHz/CasesV1/c_of_2015_215_06.mat', '/home/inderpreet/Dendrite/Projects/AWS-325GHz/CasesV1/c_of_2015_215_07.mat', '/home/inderpreet/Dendrite/Projects/AWS-325GHz/CasesV1/c_of_2015_215_08.mat', '/home/inderpreet/Dendrite/Projects/AWS-325GHz/CasesV1/c_of_2015_215_09.mat', '/home/inderpreet/Dendrite/Projects/AWS-325GHz/CasesV1/c_of_2015_215_10.mat', '/home/inderpreet/Dendrite/Projects/AWS-325GHz/CasesV1/c_of_2015_215_11.mat', '/home/inderpreet/Dendrite/Projects/AWS-325GHz/CasesV1/c_of_2015_215_12.mat', '/home/inderpreet/Dendrite/Projects/AWS-325GHz/CasesV1/c_of_2015_215_13.mat', '/home/inderpreet/Dendrite/Projects/AWS-325GHz/CasesV1/c_of_2015_215_14.mat', '/home/inderpreet/Dendrite/Projects/AWS-325GHz/CasesV1/c_of_2015_215_15.mat', '/home/inderpreet/Dendrite/Projects/AWS-325GHz/CasesV1/c_of_2015_216_01.mat', '/home/inderpreet/Dendrite/Projects/AWS-325GHz/CasesV1/c_of_2015_216_02.mat', '/home/inderpreet/Dendrite/Projects/AWS-325GHz/CasesV1/c_of_2015_216_03.mat', '/home/inderpreet/Dendrite/Projects/AWS-325GHz/CasesV1/c_of_2015_216_04.mat', '/home/inderpreet/Dendrite/Projects/AWS-325GHz/CasesV1/c_of_2015_216_05.mat', '/home/inderpreet/Dendrite/Projects/AWS-325GHz/CasesV1/c_of_2015_216_06.mat', '/home/inderpreet/Dendrite/Projects/AWS-325GHz/CasesV1/c_of_2015_216_07.mat', '/home/inderpreet/Dendrite/Projects/AWS-325GHz/CasesV1/c_of_2015_216_08.mat', '/home/inderpreet/Dendrite/Projects/AWS-325GHz/CasesV1/c_of_2015_216_09.mat', '/home/inderpreet/Dendrite/Projects/AWS-325GHz/CasesV1/c_of_2015_216_10.mat', '/home/inderpreet/Dendrite/Projects/AWS-325GHz/CasesV1/c_of_2015_216_11.mat', '/home/inderpreet/Dendrite/Projects/AWS-325GHz/CasesV1/c_of_2015_216_12.mat', '/home/inderpreet/Dendrite/Projects/AWS-325GHz/CasesV1/c_of_2015_216_13.mat', '/home/inderpreet/Dendrite/Projects/AWS-325GHz/CasesV1/c_of_2015_216_14.mat', '/home/inderpreet/Dendrite/Projects/AWS-325GHz/CasesV1/c_of_2015_217_01.mat', '/home/inderpreet/Dendrite/Projects/AWS-325GHz/CasesV1/c_of_2015_217_02.mat', '/home/inderpreet/Dendrite/Projects/AWS-325GHz/CasesV1/c_of_2015_217_03.mat', '/home/inderpreet/Dendrite/Projects/AWS-325GHz/CasesV1/c_of_2015_217_04.mat', '/home/inderpreet/Dendrite/Projects/AWS-325GHz/CasesV1/c_of_2015_217_05.mat', '/home/inderpreet/Dendrite/Projects/AWS-325GHz/CasesV1/c_of_2015_217_06.mat', '/home/inderpreet/Dendrite/Projects/AWS-325GHz/CasesV1/c_of_2015_217_07.mat', '/home/inderpreet/Dendrite/Projects/AWS-325GHz/CasesV1/c_of_2015_217_08.mat', '/home/inderpreet/Dendrite/Projects/AWS-325GHz/CasesV1/c_of_2015_217_09.mat', '/home/inderpreet/Dendrite/Projects/AWS-325GHz/CasesV1/c_of_2015_217_10.mat', '/home/inderpreet/Dendrite/Projects/AWS-325GHz/CasesV1/c_of_2015_217_11.mat', '/home/inderpreet/Dendrite/Projects/AWS-325GHz/CasesV1/c_of_2015_217_12.mat', '/home/inderpreet/Dendrite/Projects/AWS-325GHz/CasesV1/c_of_2015_217_13.mat', '/home/inderpreet/Dendrite/Projects/AWS-325GHz/CasesV1/c_of_2015_217_14.mat', '/home/inderpreet/Dendrite/Projects/AWS-325GHz/CasesV1/c_of_2015_217_15.mat', '/home/inderpreet/Dendrite/Projects/AWS-325GHz/CasesV1/c_of_2015_218_01.mat', '/home/inderpreet/Dendrite/Projects/AWS-325GHz/CasesV1/c_of_2015_218_02.mat', '/home/inderpreet/Dendrite/Projects/AWS-325GHz/CasesV1/c_of_2015_218_03.mat', '/home/inderpreet/Dendrite/Projects/AWS-325GHz/CasesV1/c_of_2015_218_04.mat', '/home/inderpreet/Dendrite/Projects/AWS-325GHz/CasesV1/c_of_2015_218_05.mat', '/home/inderpreet/Dendrite/Projects/AWS-325GHz/CasesV1/c_of_2015_218_06.mat', '/home/inderpreet/Dendrite/Projects/AWS-325GHz/CasesV1/c_of_2015_218_07.mat', '/home/inderpreet/Dendrite/Projects/AWS-325GHz/CasesV1/c_of_2015_218_08.mat', '/home/inderpreet/Dendrite/Projects/AWS-325GHz/CasesV1/c_of_2015_218_09.mat', '/home/inderpreet/Dendrite/Projects/AWS-325GHz/CasesV1/c_of_2015_218_10.mat', '/home/inderpreet/Dendrite/Projects/AWS-325GHz/CasesV1/c_of_2015_218_11.mat', '/home/inderpreet/Dendrite/Projects/AWS-325GHz/CasesV1/c_of_2015_218_12.mat', '/home/inderpreet/Dendrite/Projects/AWS-325GHz/CasesV1/c_of_2015_218_13.mat', '/home/inderpreet/Dendrite/Projects/AWS-325GHz/CasesV1/c_of_2015_218_14.mat', '/home/inderpreet/Dendrite/Projects/AWS-325GHz/CasesV1/c_of_2015_219_01.mat', '/home/inderpreet/Dendrite/Projects/AWS-325GHz/CasesV1/c_of_2015_219_02.mat', '/home/inderpreet/Dendrite/Projects/AWS-325GHz/CasesV1/c_of_2015_219_03.mat', '/home/inderpreet/Dendrite/Projects/AWS-325GHz/CasesV1/c_of_2015_219_04.mat', '/home/inderpreet/Dendrite/Projects/AWS-325GHz/CasesV1/c_of_2015_219_05.mat', '/home/inderpreet/Dendrite/Projects/AWS-325GHz/CasesV1/c_of_2015_219_06.mat', '/home/inderpreet/Dendrite/Projects/AWS-325GHz/CasesV1/c_of_2015_219_07.mat', '/home/inderpreet/Dendrite/Projects/AWS-325GHz/CasesV1/c_of_2015_219_08.mat', '/home/inderpreet/Dendrite/Projects/AWS-325GHz/CasesV1/c_of_2015_219_09.mat', '/home/inderpreet/Dendrite/Projects/AWS-325GHz/CasesV1/c_of_2015_219_10.mat', '/home/inderpreet/Dendrite/Projects/AWS-325GHz/CasesV1/c_of_2015_219_11.mat', '/home/inderpreet/Dendrite/Projects/AWS-325GHz/CasesV1/c_of_2015_219_12.mat', '/home/inderpreet/Dendrite/Projects/AWS-325GHz/CasesV1/c_of_2015_219_13.mat', '/home/inderpreet/Dendrite/Projects/AWS-325GHz/CasesV1/c_of_2015_219_14.mat', '/home/inderpreet/Dendrite/Projects/AWS-325GHz/CasesV1/c_of_2015_219_15.mat', '/home/inderpreet/Dendrite/Projects/AWS-325GHz/CasesV1/c_of_2015_220_01.mat', '/home/inderpreet/Dendrite/Projects/AWS-325GHz/CasesV1/c_of_2015_220_02.mat', '/home/inderpreet/Dendrite/Projects/AWS-325GHz/CasesV1/c_of_2015_220_03.mat', '/home/inderpreet/Dendrite/Projects/AWS-325GHz/CasesV1/c_of_2015_220_04.mat', '/home/inderpreet/Dendrite/Projects/AWS-325GHz/CasesV1/c_of_2015_220_05.mat', '/home/inderpreet/Dendrite/Projects/AWS-325GHz/CasesV1/c_of_2015_220_06.mat', '/home/inderpreet/Dendrite/Projects/AWS-325GHz/CasesV1/c_of_2015_220_07.mat', '/home/inderpreet/Dendrite/Projects/AWS-325GHz/CasesV1/c_of_2015_220_08.mat', '/home/inderpreet/Dendrite/Projects/AWS-325GHz/CasesV1/c_of_2015_220_09.mat', '/home/inderpreet/Dendrite/Projects/AWS-325GHz/CasesV1/c_of_2015_220_10.mat', '/home/inderpreet/Dendrite/Projects/AWS-325GHz/CasesV1/c_of_2015_220_11.mat', '/home/inderpreet/Dendrite/Projects/AWS-325GHz/CasesV1/c_of_2015_220_12.mat', '/home/inderpreet/Dendrite/Projects/AWS-325GHz/CasesV1/c_of_2015_220_13.mat', '/home/inderpreet/Dendrite/Projects/AWS-325GHz/CasesV1/c_of_2015_220_14.mat', '/home/inderpreet/Dendrite/Projects/AWS-325GHz/CasesV1/c_of_2015_221_01.mat', '/home/inderpreet/Dendrite/Projects/AWS-325GHz/CasesV1/c_of_2015_221_02.mat', '/home/inderpreet/Dendrite/Projects/AWS-325GHz/CasesV1/c_of_2015_221_03.mat', '/home/inderpreet/Dendrite/Projects/AWS-325GHz/CasesV1/c_of_2015_221_04.mat', '/home/inderpreet/Dendrite/Projects/AWS-325GHz/CasesV1/c_of_2015_221_05.mat', '/home/inderpreet/Dendrite/Projects/AWS-325GHz/CasesV1/c_of_2015_221_06.mat', '/home/inderpreet/Dendrite/Projects/AWS-325GHz/CasesV1/c_of_2015_221_07.mat', '/home/inderpreet/Dendrite/Projects/AWS-325GHz/CasesV1/c_of_2015_221_08.mat', '/home/inderpreet/Dendrite/Projects/AWS-325GHz/CasesV1/c_of_2015_221_09.mat', '/home/inderpreet/Dendrite/Projects/AWS-325GHz/CasesV1/c_of_2015_221_10.mat', '/home/inderpreet/Dendrite/Projects/AWS-325GHz/CasesV1/c_of_2015_221_11.mat', '/home/inderpreet/Dendrite/Projects/AWS-325GHz/CasesV1/c_of_2015_221_12.mat', '/home/inderpreet/Dendrite/Projects/AWS-325GHz/CasesV1/c_of_2015_221_13.mat', '/home/inderpreet/Dendrite/Projects/AWS-325GHz/CasesV1/c_of_2015_221_14.mat', '/home/inderpreet/Dendrite/Projects/AWS-325GHz/CasesV1/c_of_2015_221_15.mat', '/home/inderpreet/Dendrite/Projects/AWS-325GHz/CasesV1/c_of_2015_222_01.mat', '/home/inderpreet/Dendrite/Projects/AWS-325GHz/CasesV1/c_of_2015_222_02.mat', '/home/inderpreet/Dendrite/Projects/AWS-325GHz/CasesV1/c_of_2015_222_03.mat', '/home/inderpreet/Dendrite/Projects/AWS-325GHz/CasesV1/c_of_2015_222_04.mat', '/home/inderpreet/Dendrite/Projects/AWS-325GHz/CasesV1/c_of_2015_222_05.mat', '/home/inderpreet/Dendrite/Projects/AWS-325GHz/CasesV1/c_of_2015_222_06.mat', '/home/inderpreet/Dendrite/Projects/AWS-325GHz/CasesV1/c_of_2015_222_07.mat', '/home/inderpreet/Dendrite/Projects/AWS-325GHz/CasesV1/c_of_2015_222_08.mat', '/home/inderpreet/Dendrite/Projects/AWS-325GHz/CasesV1/c_of_2015_222_09.mat', '/home/inderpreet/Dendrite/Projects/AWS-325GHz/CasesV1/c_of_2015_222_10.mat', '/home/inderpreet/Dendrite/Projects/AWS-325GHz/CasesV1/c_of_2015_222_11.mat', '/home/inderpreet/Dendrite/Projects/AWS-325GHz/CasesV1/c_of_2015_222_12.mat', '/home/inderpreet/Dendrite/Projects/AWS-325GHz/CasesV1/c_of_2015_222_13.mat', '/home/inderpreet/Dendrite/Projects/AWS-325GHz/CasesV1/c_of_2015_222_14.mat', '/home/inderpreet/Dendrite/Projects/AWS-325GHz/CasesV1/c_of_2015_223_01.mat', '/home/inderpreet/Dendrite/Projects/AWS-325GHz/CasesV1/c_of_2015_223_02.mat', '/home/inderpreet/Dendrite/Projects/AWS-325GHz/CasesV1/c_of_2015_223_03.mat', '/home/inderpreet/Dendrite/Projects/AWS-325GHz/CasesV1/c_of_2015_223_04.mat', '/home/inderpreet/Dendrite/Projects/AWS-325GHz/CasesV1/c_of_2015_223_05.mat', '/home/inderpreet/Dendrite/Projects/AWS-325GHz/CasesV1/c_of_2015_223_06.mat', '/home/inderpreet/Dendrite/Projects/AWS-325GHz/CasesV1/c_of_2015_223_07.mat', '/home/inderpreet/Dendrite/Projects/AWS-325GHz/CasesV1/c_of_2015_223_08.mat', '/home/inderpreet/Dendrite/Projects/AWS-325GHz/CasesV1/c_of_2015_223_09.mat', '/home/inderpreet/Dendrite/Projects/AWS-325GHz/CasesV1/c_of_2015_223_10.mat', '/home/inderpreet/Dendrite/Projects/AWS-325GHz/CasesV1/c_of_2015_223_11.mat', '/home/inderpreet/Dendrite/Projects/AWS-325GHz/CasesV1/c_of_2015_223_12.mat', '/home/inderpreet/Dendrite/Projects/AWS-325GHz/CasesV1/c_of_2015_223_13.mat', '/home/inderpreet/Dendrite/Projects/AWS-325GHz/CasesV1/c_of_2015_223_14.mat', '/home/inderpreet/Dendrite/Projects/AWS-325GHz/CasesV1/c_of_2015_223_15.mat', '/home/inderpreet/Dendrite/Projects/AWS-325GHz/CasesV1/c_of_2015_224_01.mat', '/home/inderpreet/Dendrite/Projects/AWS-325GHz/CasesV1/c_of_2015_224_02.mat', '/home/inderpreet/Dendrite/Projects/AWS-325GHz/CasesV1/c_of_2015_224_03.mat', '/home/inderpreet/Dendrite/Projects/AWS-325GHz/CasesV1/c_of_2015_224_04.mat', '/home/inderpreet/Dendrite/Projects/AWS-325GHz/CasesV1/c_of_2015_224_05.mat', '/home/inderpreet/Dendrite/Projects/AWS-325GHz/CasesV1/c_of_2015_224_06.mat', '/home/inderpreet/Dendrite/Projects/AWS-325GHz/CasesV1/c_of_2015_224_07.mat', '/home/inderpreet/Dendrite/Projects/AWS-325GHz/CasesV1/c_of_2015_224_08.mat', '/home/inderpreet/Dendrite/Projects/AWS-325GHz/CasesV1/c_of_2015_224_09.mat', '/home/inderpreet/Dendrite/Projects/AWS-325GHz/CasesV1/c_of_2015_224_10.mat', '/home/inderpreet/Dendrite/Projects/AWS-325GHz/CasesV1/c_of_2015_224_11.mat', '/home/inderpreet/Dendrite/Projects/AWS-325GHz/CasesV1/c_of_2015_224_12.mat', '/home/inderpreet/Dendrite/Projects/AWS-325GHz/CasesV1/c_of_2015_224_13.mat', '/home/inderpreet/Dendrite/Projects/AWS-325GHz/CasesV1/c_of_2015_224_14.mat', '/home/inderpreet/Dendrite/Projects/AWS-325GHz/CasesV1/c_of_2015_224_15.mat', '/home/inderpreet/Dendrite/Projects/AWS-325GHz/CasesV1/c_of_2015_225_01.mat', '/home/inderpreet/Dendrite/Projects/AWS-325GHz/CasesV1/c_of_2015_225_02.mat', '/home/inderpreet/Dendrite/Projects/AWS-325GHz/CasesV1/c_of_2015_225_03.mat', '/home/inderpreet/Dendrite/Projects/AWS-325GHz/CasesV1/c_of_2015_225_04.mat', '/home/inderpreet/Dendrite/Projects/AWS-325GHz/CasesV1/c_of_2015_225_05.mat', '/home/inderpreet/Dendrite/Projects/AWS-325GHz/CasesV1/c_of_2015_225_06.mat', '/home/inderpreet/Dendrite/Projects/AWS-325GHz/CasesV1/c_of_2015_225_07.mat', '/home/inderpreet/Dendrite/Projects/AWS-325GHz/CasesV1/c_of_2015_225_08.mat', '/home/inderpreet/Dendrite/Projects/AWS-325GHz/CasesV1/c_of_2015_225_09.mat', '/home/inderpreet/Dendrite/Projects/AWS-325GHz/CasesV1/c_of_2015_225_10.mat', '/home/inderpreet/Dendrite/Projects/AWS-325GHz/CasesV1/c_of_2015_225_11.mat', '/home/inderpreet/Dendrite/Projects/AWS-325GHz/CasesV1/c_of_2015_225_12.mat', '/home/inderpreet/Dendrite/Projects/AWS-325GHz/CasesV1/c_of_2015_225_13.mat', '/home/inderpreet/Dendrite/Projects/AWS-325GHz/CasesV1/c_of_2015_225_14.mat', '/home/inderpreet/Dendrite/Projects/AWS-325GHz/CasesV1/c_of_2015_226_01.mat', '/home/inderpreet/Dendrite/Projects/AWS-325GHz/CasesV1/c_of_2015_226_02.mat', '/home/inderpreet/Dendrite/Projects/AWS-325GHz/CasesV1/c_of_2015_226_03.mat', '/home/inderpreet/Dendrite/Projects/AWS-325GHz/CasesV1/c_of_2015_226_04.mat', '/home/inderpreet/Dendrite/Projects/AWS-325GHz/CasesV1/c_of_2015_226_05.mat', '/home/inderpreet/Dendrite/Projects/AWS-325GHz/CasesV1/c_of_2015_226_06.mat', '/home/inderpreet/Dendrite/Projects/AWS-325GHz/CasesV1/c_of_2015_226_07.mat', '/home/inderpreet/Dendrite/Projects/AWS-325GHz/CasesV1/c_of_2015_226_08.mat', '/home/inderpreet/Dendrite/Projects/AWS-325GHz/CasesV1/c_of_2015_226_09.mat', '/home/inderpreet/Dendrite/Projects/AWS-325GHz/CasesV1/c_of_2015_226_10.mat', '/home/inderpreet/Dendrite/Projects/AWS-325GHz/CasesV1/c_of_2015_226_11.mat', '/home/inderpreet/Dendrite/Projects/AWS-325GHz/CasesV1/c_of_2015_226_12.mat', '/home/inderpreet/Dendrite/Projects/AWS-325GHz/CasesV1/c_of_2015_226_13.mat', '/home/inderpreet/Dendrite/Projects/AWS-325GHz/CasesV1/c_of_2015_226_14.mat', '/home/inderpreet/Dendrite/Projects/AWS-325GHz/CasesV1/c_of_2015_226_15.mat', '/home/inderpreet/Dendrite/Projects/AWS-325GHz/CasesV1/c_of_2015_227_01.mat', '/home/inderpreet/Dendrite/Projects/AWS-325GHz/CasesV1/c_of_2015_227_02.mat', '/home/inderpreet/Dendrite/Projects/AWS-325GHz/CasesV1/c_of_2015_227_03.mat', '/home/inderpreet/Dendrite/Projects/AWS-325GHz/CasesV1/c_of_2015_227_04.mat', '/home/inderpreet/Dendrite/Projects/AWS-325GHz/CasesV1/c_of_2015_227_05.mat', '/home/inderpreet/Dendrite/Projects/AWS-325GHz/CasesV1/c_of_2015_227_06.mat', '/home/inderpreet/Dendrite/Projects/AWS-325GHz/CasesV1/c_of_2015_227_07.mat', '/home/inderpreet/Dendrite/Projects/AWS-325GHz/CasesV1/c_of_2015_227_08.mat', '/home/inderpreet/Dendrite/Projects/AWS-325GHz/CasesV1/c_of_2015_227_09.mat', '/home/inderpreet/Dendrite/Projects/AWS-325GHz/CasesV1/c_of_2015_227_10.mat', '/home/inderpreet/Dendrite/Projects/AWS-325GHz/CasesV1/c_of_2015_227_11.mat', '/home/inderpreet/Dendrite/Projects/AWS-325GHz/CasesV1/c_of_2015_227_12.mat', '/home/inderpreet/Dendrite/Projects/AWS-325GHz/CasesV1/c_of_2015_227_13.mat', '/home/inderpreet/Dendrite/Projects/AWS-325GHz/CasesV1/c_of_2015_227_14.mat', '/home/inderpreet/Dendrite/Projects/AWS-325GHz/CasesV1/c_of_2015_228_01.mat', '/home/inderpreet/Dendrite/Projects/AWS-325GHz/CasesV1/c_of_2015_228_02.mat', '/home/inderpreet/Dendrite/Projects/AWS-325GHz/CasesV1/c_of_2015_228_03.mat', '/home/inderpreet/Dendrite/Projects/AWS-325GHz/CasesV1/c_of_2015_228_04.mat', '/home/inderpreet/Dendrite/Projects/AWS-325GHz/CasesV1/c_of_2015_228_05.mat', '/home/inderpreet/Dendrite/Projects/AWS-325GHz/CasesV1/c_of_2015_228_06.mat', '/home/inderpreet/Dendrite/Projects/AWS-325GHz/CasesV1/c_of_2015_228_07.mat', '/home/inderpreet/Dendrite/Projects/AWS-325GHz/CasesV1/c_of_2015_228_08.mat', '/home/inderpreet/Dendrite/Projects/AWS-325GHz/CasesV1/c_of_2015_228_09.mat', '/home/inderpreet/Dendrite/Projects/AWS-325GHz/CasesV1/c_of_2015_228_10.mat', '/home/inderpreet/Dendrite/Projects/AWS-325GHz/CasesV1/c_of_2015_228_11.mat', '/home/inderpreet/Dendrite/Projects/AWS-325GHz/CasesV1/c_of_2015_228_12.mat', '/home/inderpreet/Dendrite/Projects/AWS-325GHz/CasesV1/c_of_2015_228_13.mat', '/home/inderpreet/Dendrite/Projects/AWS-325GHz/CasesV1/c_of_2015_228_14.mat', '/home/inderpreet/Dendrite/Projects/AWS-325GHz/CasesV1/c_of_2015_228_15.mat', '/home/inderpreet/Dendrite/Projects/AWS-325GHz/CasesV1/c_of_2015_229_01.mat', '/home/inderpreet/Dendrite/Projects/AWS-325GHz/CasesV1/c_of_2015_229_02.mat', '/home/inderpreet/Dendrite/Projects/AWS-325GHz/CasesV1/c_of_2015_229_03.mat', '/home/inderpreet/Dendrite/Projects/AWS-325GHz/CasesV1/c_of_2015_229_04.mat', '/home/inderpreet/Dendrite/Projects/AWS-325GHz/CasesV1/c_of_2015_229_05.mat', '/home/inderpreet/Dendrite/Projects/AWS-325GHz/CasesV1/c_of_2015_229_06.mat', '/home/inderpreet/Dendrite/Projects/AWS-325GHz/CasesV1/c_of_2015_229_07.mat', '/home/inderpreet/Dendrite/Projects/AWS-325GHz/CasesV1/c_of_2015_229_08.mat', '/home/inderpreet/Dendrite/Projects/AWS-325GHz/CasesV1/c_of_2015_229_09.mat', '/home/inderpreet/Dendrite/Projects/AWS-325GHz/CasesV1/c_of_2015_229_10.mat', '/home/inderpreet/Dendrite/Projects/AWS-325GHz/CasesV1/c_of_2015_229_11.mat', '/home/inderpreet/Dendrite/Projects/AWS-325GHz/CasesV1/c_of_2015_229_12.mat', '/home/inderpreet/Dendrite/Projects/AWS-325GHz/CasesV1/c_of_2015_229_13.mat', '/home/inderpreet/Dendrite/Projects/AWS-325GHz/CasesV1/c_of_2015_229_14.mat', '/home/inderpreet/Dendrite/Projects/AWS-325GHz/CasesV1/c_of_2015_230_01.mat', '/home/inderpreet/Dendrite/Projects/AWS-325GHz/CasesV1/c_of_2015_230_02.mat', '/home/inderpreet/Dendrite/Projects/AWS-325GHz/CasesV1/c_of_2015_230_03.mat', '/home/inderpreet/Dendrite/Projects/AWS-325GHz/CasesV1/c_of_2015_230_04.mat', '/home/inderpreet/Dendrite/Projects/AWS-325GHz/CasesV1/c_of_2015_230_05.mat', '/home/inderpreet/Dendrite/Projects/AWS-325GHz/CasesV1/c_of_2015_230_06.mat', '/home/inderpreet/Dendrite/Projects/AWS-325GHz/CasesV1/c_of_2015_230_07.mat', '/home/inderpreet/Dendrite/Projects/AWS-325GHz/CasesV1/c_of_2015_230_08.mat', '/home/inderpreet/Dendrite/Projects/AWS-325GHz/CasesV1/c_of_2015_230_09.mat', '/home/inderpreet/Dendrite/Projects/AWS-325GHz/CasesV1/c_of_2015_230_10.mat', '/home/inderpreet/Dendrite/Projects/AWS-325GHz/CasesV1/c_of_2015_230_11.mat', '/home/inderpreet/Dendrite/Projects/AWS-325GHz/CasesV1/c_of_2015_230_12.mat', '/home/inderpreet/Dendrite/Projects/AWS-325GHz/CasesV1/c_of_2015_230_13.mat', '/home/inderpreet/Dendrite/Projects/AWS-325GHz/CasesV1/c_of_2015_230_14.mat', '/home/inderpreet/Dendrite/Projects/AWS-325GHz/CasesV1/c_of_2015_230_15.mat', '/home/inderpreet/Dendrite/Projects/AWS-325GHz/CasesV1/c_of_2015_231_01.mat', '/home/inderpreet/Dendrite/Projects/AWS-325GHz/CasesV1/c_of_2015_231_02.mat', '/home/inderpreet/Dendrite/Projects/AWS-325GHz/CasesV1/c_of_2015_231_03.mat', '/home/inderpreet/Dendrite/Projects/AWS-325GHz/CasesV1/c_of_2015_231_04.mat', '/home/inderpreet/Dendrite/Projects/AWS-325GHz/CasesV1/c_of_2015_231_05.mat', '/home/inderpreet/Dendrite/Projects/AWS-325GHz/CasesV1/c_of_2015_231_06.mat', '/home/inderpreet/Dendrite/Projects/AWS-325GHz/CasesV1/c_of_2015_231_07.mat', '/home/inderpreet/Dendrite/Projects/AWS-325GHz/CasesV1/c_of_2015_231_08.mat', '/home/inderpreet/Dendrite/Projects/AWS-325GHz/CasesV1/c_of_2015_231_09.mat', '/home/inderpreet/Dendrite/Projects/AWS-325GHz/CasesV1/c_of_2015_231_10.mat', '/home/inderpreet/Dendrite/Projects/AWS-325GHz/CasesV1/c_of_2015_231_11.mat', '/home/inderpreet/Dendrite/Projects/AWS-325GHz/CasesV1/c_of_2015_231_12.mat', '/home/inderpreet/Dendrite/Projects/AWS-325GHz/CasesV1/c_of_2015_231_13.mat', '/home/inderpreet/Dendrite/Projects/AWS-325GHz/CasesV1/c_of_2015_231_14.mat', '/home/inderpreet/Dendrite/Projects/AWS-325GHz/CasesV1/c_of_2015_231_15.mat', '/home/inderpreet/Dendrite/Projects/AWS-325GHz/CasesV1/c_of_2015_232_01.mat', '/home/inderpreet/Dendrite/Projects/AWS-325GHz/CasesV1/c_of_2015_232_02.mat', '/home/inderpreet/Dendrite/Projects/AWS-325GHz/CasesV1/c_of_2015_232_03.mat', '/home/inderpreet/Dendrite/Projects/AWS-325GHz/CasesV1/c_of_2015_232_04.mat', '/home/inderpreet/Dendrite/Projects/AWS-325GHz/CasesV1/c_of_2015_232_05.mat', '/home/inderpreet/Dendrite/Projects/AWS-325GHz/CasesV1/c_of_2015_232_06.mat', '/home/inderpreet/Dendrite/Projects/AWS-325GHz/CasesV1/c_of_2015_232_07.mat', '/home/inderpreet/Dendrite/Projects/AWS-325GHz/CasesV1/c_of_2015_232_08.mat', '/home/inderpreet/Dendrite/Projects/AWS-325GHz/CasesV1/c_of_2015_232_09.mat', '/home/inderpreet/Dendrite/Projects/AWS-325GHz/CasesV1/c_of_2015_232_10.mat', '/home/inderpreet/Dendrite/Projects/AWS-325GHz/CasesV1/c_of_2015_232_11.mat', '/home/inderpreet/Dendrite/Projects/AWS-325GHz/CasesV1/c_of_2015_232_12.mat', '/home/inderpreet/Dendrite/Projects/AWS-325GHz/CasesV1/c_of_2015_232_13.mat', '/home/inderpreet/Dendrite/Projects/AWS-325GHz/CasesV1/c_of_2015_232_14.mat', '/home/inderpreet/Dendrite/Projects/AWS-325GHz/CasesV1/c_of_2015_233_01.mat', '/home/inderpreet/Dendrite/Projects/AWS-325GHz/CasesV1/c_of_2015_233_02.mat', '/home/inderpreet/Dendrite/Projects/AWS-325GHz/CasesV1/c_of_2015_233_03.mat', '/home/inderpreet/Dendrite/Projects/AWS-325GHz/CasesV1/c_of_2015_233_04.mat', '/home/inderpreet/Dendrite/Projects/AWS-325GHz/CasesV1/c_of_2015_233_05.mat', '/home/inderpreet/Dendrite/Projects/AWS-325GHz/CasesV1/c_of_2015_233_06.mat', '/home/inderpreet/Dendrite/Projects/AWS-325GHz/CasesV1/c_of_2015_233_07.mat', '/home/inderpreet/Dendrite/Projects/AWS-325GHz/CasesV1/c_of_2015_233_08.mat', '/home/inderpreet/Dendrite/Projects/AWS-325GHz/CasesV1/c_of_2015_233_09.mat', '/home/inderpreet/Dendrite/Projects/AWS-325GHz/CasesV1/c_of_2015_233_10.mat', '/home/inderpreet/Dendrite/Projects/AWS-325GHz/CasesV1/c_of_2015_233_11.mat', '/home/inderpreet/Dendrite/Projects/AWS-325GHz/CasesV1/c_of_2015_233_12.mat', '/home/inderpreet/Dendrite/Projects/AWS-325GHz/CasesV1/c_of_2015_233_13.mat', '/home/inderpreet/Dendrite/Projects/AWS-325GHz/CasesV1/c_of_2015_233_14.mat', '/home/inderpreet/Dendrite/Projects/AWS-325GHz/CasesV1/c_of_2015_233_15.mat']\n"
     ]
    },
    {
     "ename": "TimeoutError",
     "evalue": "Result not ready.",
     "output_type": "error",
     "traceback": [
      "\u001b[0;31m---------------------------------------------------------------------------\u001b[0m",
      "\u001b[0;31mTimeoutError\u001b[0m                              Traceback (most recent call last)",
      "\u001b[0;32m<ipython-input-10-21d1e6b47ec5>\u001b[0m in \u001b[0;36m<module>\u001b[0;34m\u001b[0m\n\u001b[1;32m      3\u001b[0m \u001b[0;31m# Try for 24 files for now\u001b[0m\u001b[0;34m\u001b[0m\u001b[0;34m\u001b[0m\u001b[0;34m\u001b[0m\u001b[0m\n\u001b[1;32m      4\u001b[0m \u001b[0mresults\u001b[0m \u001b[0;34m=\u001b[0m \u001b[0mview\u001b[0m\u001b[0;34m.\u001b[0m\u001b[0mmap\u001b[0m\u001b[0;34m(\u001b[0m\u001b[0msimulate_orbit_clearsky\u001b[0m\u001b[0;34m,\u001b[0m \u001b[0mfiles\u001b[0m\u001b[0;34m[\u001b[0m\u001b[0;34m:\u001b[0m\u001b[0;36m24\u001b[0m\u001b[0;34m]\u001b[0m\u001b[0;34m,\u001b[0m \u001b[0mblock\u001b[0m\u001b[0;34m=\u001b[0m\u001b[0;32mFalse\u001b[0m\u001b[0;34m)\u001b[0m\u001b[0;34m\u001b[0m\u001b[0;34m\u001b[0m\u001b[0m\n\u001b[0;32m----> 5\u001b[0;31m \u001b[0mresults\u001b[0m\u001b[0;34m[\u001b[0m\u001b[0;36m0\u001b[0m\u001b[0;34m]\u001b[0m\u001b[0;34m\u001b[0m\u001b[0;34m\u001b[0m\u001b[0m\n\u001b[0m",
      "\u001b[0;32m~/anaconda3/lib/python3.7/site-packages/ipyparallel/client/asyncresult.py\u001b[0m in \u001b[0;36m__getitem__\u001b[0;34m(self, key)\u001b[0m\n\u001b[1;32m    348\u001b[0m         \"\"\"\n\u001b[1;32m    349\u001b[0m         \u001b[0;32mif\u001b[0m \u001b[0misinstance\u001b[0m\u001b[0;34m(\u001b[0m\u001b[0mkey\u001b[0m\u001b[0;34m,\u001b[0m \u001b[0mint\u001b[0m\u001b[0;34m)\u001b[0m\u001b[0;34m:\u001b[0m\u001b[0;34m\u001b[0m\u001b[0;34m\u001b[0m\u001b[0m\n\u001b[0;32m--> 350\u001b[0;31m             \u001b[0mself\u001b[0m\u001b[0;34m.\u001b[0m\u001b[0m_check_ready\u001b[0m\u001b[0;34m(\u001b[0m\u001b[0;34m)\u001b[0m\u001b[0;34m\u001b[0m\u001b[0;34m\u001b[0m\u001b[0m\n\u001b[0m\u001b[1;32m    351\u001b[0m             \u001b[0;32mreturn\u001b[0m \u001b[0merror\u001b[0m\u001b[0;34m.\u001b[0m\u001b[0mcollect_exceptions\u001b[0m\u001b[0;34m(\u001b[0m\u001b[0;34m[\u001b[0m\u001b[0mself\u001b[0m\u001b[0;34m.\u001b[0m\u001b[0mresult\u001b[0m\u001b[0;34m(\u001b[0m\u001b[0;34m)\u001b[0m\u001b[0;34m[\u001b[0m\u001b[0mkey\u001b[0m\u001b[0;34m]\u001b[0m\u001b[0;34m]\u001b[0m\u001b[0;34m,\u001b[0m \u001b[0mself\u001b[0m\u001b[0;34m.\u001b[0m\u001b[0m_fname\u001b[0m\u001b[0;34m)\u001b[0m\u001b[0;34m[\u001b[0m\u001b[0;36m0\u001b[0m\u001b[0;34m]\u001b[0m\u001b[0;34m\u001b[0m\u001b[0;34m\u001b[0m\u001b[0m\n\u001b[1;32m    352\u001b[0m         \u001b[0;32melif\u001b[0m \u001b[0misinstance\u001b[0m\u001b[0;34m(\u001b[0m\u001b[0mkey\u001b[0m\u001b[0;34m,\u001b[0m \u001b[0mslice\u001b[0m\u001b[0;34m)\u001b[0m\u001b[0;34m:\u001b[0m\u001b[0;34m\u001b[0m\u001b[0;34m\u001b[0m\u001b[0m\n",
      "\u001b[0;32m~/anaconda3/lib/python3.7/site-packages/ipyparallel/client/asyncresult.py\u001b[0m in \u001b[0;36m_check_ready\u001b[0;34m(self)\u001b[0m\n\u001b[1;32m    173\u001b[0m     \u001b[0;32mdef\u001b[0m \u001b[0m_check_ready\u001b[0m\u001b[0;34m(\u001b[0m\u001b[0mself\u001b[0m\u001b[0;34m)\u001b[0m\u001b[0;34m:\u001b[0m\u001b[0;34m\u001b[0m\u001b[0;34m\u001b[0m\u001b[0m\n\u001b[1;32m    174\u001b[0m         \u001b[0;32mif\u001b[0m \u001b[0;32mnot\u001b[0m \u001b[0mself\u001b[0m\u001b[0;34m.\u001b[0m\u001b[0mready\u001b[0m\u001b[0;34m(\u001b[0m\u001b[0;34m)\u001b[0m\u001b[0;34m:\u001b[0m\u001b[0;34m\u001b[0m\u001b[0;34m\u001b[0m\u001b[0m\n\u001b[0;32m--> 175\u001b[0;31m             \u001b[0;32mraise\u001b[0m \u001b[0merror\u001b[0m\u001b[0;34m.\u001b[0m\u001b[0mTimeoutError\u001b[0m\u001b[0;34m(\u001b[0m\u001b[0;34m\"Result not ready.\"\u001b[0m\u001b[0;34m)\u001b[0m\u001b[0;34m\u001b[0m\u001b[0;34m\u001b[0m\u001b[0m\n\u001b[0m\u001b[1;32m    176\u001b[0m \u001b[0;34m\u001b[0m\u001b[0m\n\u001b[1;32m    177\u001b[0m     \u001b[0;32mdef\u001b[0m \u001b[0mready\u001b[0m\u001b[0;34m(\u001b[0m\u001b[0mself\u001b[0m\u001b[0;34m)\u001b[0m\u001b[0;34m:\u001b[0m\u001b[0;34m\u001b[0m\u001b[0;34m\u001b[0m\u001b[0m\n",
      "\u001b[0;31mTimeoutError\u001b[0m: Result not ready."
     ]
    }
   ],
   "source": [
    "files = glob.glob(os.path.expanduser(\"~/Dendrite/Projects/AWS-325GHz/CasesV1/*.mat\"))\n",
    "print(files)\n",
    "# Try for 24 files for now\n",
    "results = view.map(simulate_orbit_clearsky, files[:24], block=False)"
   ]
  }
 ],
 "metadata": {
  "kernelspec": {
   "display_name": "Python 3",
   "language": "python",
   "name": "python3"
  },
  "language_info": {
   "codemirror_mode": {
    "name": "ipython",
    "version": 3
   },
   "file_extension": ".py",
   "mimetype": "text/x-python",
   "name": "python",
   "nbconvert_exporter": "python",
   "pygments_lexer": "ipython3",
   "version": "3.7.6"
  }
 },
 "nbformat": 4,
 "nbformat_minor": 2
}
